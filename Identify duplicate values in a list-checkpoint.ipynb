{
 "cells": [
  {
   "cell_type": "code",
   "execution_count": 1,
   "id": "b9916cd1",
   "metadata": {},
   "outputs": [
    {
     "name": "stdout",
     "output_type": "stream",
     "text": [
      "2 3 4 5 "
     ]
    }
   ],
   "source": [
    "l=[1,2,3,4,5,2,3,4,7,9,5]\n",
    "l1=[]\n",
    "for i in l:\n",
    "    if i not in l1:\n",
    "        l1.append(i)\n",
    "    else:\n",
    "        print(i,end=' ')\n"
   ]
  },
  {
   "cell_type": "code",
   "execution_count": null,
   "id": "67048d95",
   "metadata": {},
   "outputs": [],
   "source": []
  }
 ],
 "metadata": {
  "kernelspec": {
   "display_name": "Python 3",
   "language": "python",
   "name": "python3"
  },
  "language_info": {
   "codemirror_mode": {
    "name": "ipython",
    "version": 3
   },
   "file_extension": ".py",
   "mimetype": "text/x-python",
   "name": "python",
   "nbconvert_exporter": "python",
   "pygments_lexer": "ipython3",
   "version": "3.8.8"
  }
 },
 "nbformat": 4,
 "nbformat_minor": 5
}
